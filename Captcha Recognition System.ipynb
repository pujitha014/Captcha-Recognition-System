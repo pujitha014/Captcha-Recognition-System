{
 "cells": [
  {
   "cell_type": "code",
   "execution_count": 1,
   "metadata": {
    "execution": {
     "iopub.execute_input": "2024-11-23T14:36:05.712746Z",
     "iopub.status.busy": "2024-11-23T14:36:05.712425Z",
     "iopub.status.idle": "2024-11-23T14:36:13.626126Z",
     "shell.execute_reply": "2024-11-23T14:36:13.625057Z",
     "shell.execute_reply.started": "2024-11-23T14:36:05.712719Z"
    },
    "id": "b9QXX0fvXMt4",
    "outputId": "089b3a48-bdd6-4963-ff5d-a3a4bdc8eee4",
    "trusted": true
   },
   "outputs": [
    {
     "name": "stdout",
     "output_type": "stream",
     "text": [
      "Requirement already satisfied: pygad in c:\\users\\kello\\appdata\\local\\programs\\python\\python310\\lib\\site-packages (3.3.1)\n",
      "Requirement already satisfied: cloudpickle in c:\\users\\kello\\appdata\\local\\programs\\python\\python310\\lib\\site-packages (from pygad) (2.2.1)\n",
      "Requirement already satisfied: matplotlib in c:\\users\\kello\\appdata\\local\\programs\\python\\python310\\lib\\site-packages (from pygad) (3.5.3)\n",
      "Requirement already satisfied: numpy in c:\\users\\kello\\appdata\\local\\programs\\python\\python310\\lib\\site-packages (from pygad) (1.23.5)\n",
      "Requirement already satisfied: cycler>=0.10 in c:\\users\\kello\\appdata\\local\\programs\\python\\python310\\lib\\site-packages (from matplotlib->pygad) (0.11.0)\n",
      "Requirement already satisfied: fonttools>=4.22.0 in c:\\users\\kello\\appdata\\local\\programs\\python\\python310\\lib\\site-packages (from matplotlib->pygad) (4.40.0)\n",
      "Requirement already satisfied: kiwisolver>=1.0.1 in c:\\users\\kello\\appdata\\local\\programs\\python\\python310\\lib\\site-packages (from matplotlib->pygad) (1.4.4)\n",
      "Requirement already satisfied: packaging>=20.0 in c:\\users\\kello\\appdata\\local\\programs\\python\\python310\\lib\\site-packages (from matplotlib->pygad) (20.9)\n",
      "Requirement already satisfied: pillow>=6.2.0 in c:\\users\\kello\\appdata\\local\\programs\\python\\python310\\lib\\site-packages (from matplotlib->pygad) (10.0.0)\n",
      "Requirement already satisfied: pyparsing>=2.2.1 in c:\\users\\kello\\appdata\\local\\programs\\python\\python310\\lib\\site-packages (from matplotlib->pygad) (3.0.9)\n",
      "Requirement already satisfied: python-dateutil>=2.7 in c:\\users\\kello\\appdata\\local\\programs\\python\\python310\\lib\\site-packages (from matplotlib->pygad) (2.8.2)\n",
      "Requirement already satisfied: six>=1.5 in c:\\users\\kello\\appdata\\local\\programs\\python\\python310\\lib\\site-packages (from python-dateutil>=2.7->matplotlib->pygad) (1.16.0)\n"
     ]
    }
   ],
   "source": [
    "!pip install pygad"
   ]
  },
  {
   "cell_type": "code",
   "execution_count": 4,
   "metadata": {
    "execution": {
     "iopub.execute_input": "2024-11-23T14:36:13.628210Z",
     "iopub.status.busy": "2024-11-23T14:36:13.627925Z",
     "iopub.status.idle": "2024-11-23T14:36:33.426694Z",
     "shell.execute_reply": "2024-11-23T14:36:33.425946Z",
     "shell.execute_reply.started": "2024-11-23T14:36:13.628184Z"
    },
    "id": "msX5o0skahvV",
    "trusted": true
   },
   "outputs": [],
   "source": [
    "import os\n",
    "import numpy as np\n",
    "import tensorflow as tf\n",
    "from tensorflow.keras.models import Model\n",
    "from tensorflow.keras.layers import (\n",
    "    Input,\n",
    "    Conv2D,\n",
    "    MaxPooling2D,\n",
    "    Flatten,\n",
    "    Dense,\n",
    "    Dropout,\n",
    "    Concatenate,\n",
    "    Reshape,\n",
    "    BatchNormalization\n",
    ")\n",
    "from sklearn.model_selection import train_test_split\n",
    "\n",
    "# Constants\n",
    "IMG_HEIGHT = 50\n",
    "IMG_WIDTH = 200\n",
    "IMG_CHANNELS = 1\n",
    "NUM_CLASSES = 36  # Digits 0-9 + letters a-z\n",
    "CAPTCHA_LENGTH = 5  # Fixed number of characters in CAPTCHA\n",
    "\n",
    "# Character set\n",
    "CHAR_SET = \"0123456789abcdefghijklmnopqrstuvwxyz\"\n",
    "\n",
    "# Preprocess images and targets\n",
    "def preprocess_data(image_dir):\n",
    "    images = []\n",
    "    labels = []\n",
    "\n",
    "    for filename in os.listdir(image_dir):\n",
    "        # Read and preprocess image\n",
    "        img_path = os.path.join(image_dir, filename)\n",
    "        img = tf.keras.preprocessing.image.load_img(\n",
    "            img_path, color_mode=\"grayscale\", target_size=(IMG_HEIGHT, IMG_WIDTH)\n",
    "        )\n",
    "        img = tf.keras.preprocessing.image.img_to_array(img) / 255.0\n",
    "        images.append(img)\n",
    "\n",
    "        # Extract label from filename\n",
    "        label = filename[:-4]  # Remove \".png\"\n",
    "        label_one_hot = np.zeros((CAPTCHA_LENGTH, NUM_CLASSES))  # Shape (5, 36)\n",
    "        for i, char in enumerate(label):\n",
    "            label_one_hot[i, CHAR_SET.index(char)] = 1\n",
    "        labels.append(label_one_hot)\n",
    "\n",
    "    images = np.array(images)  # Shape (n_samples, 50, 200, 1)\n",
    "    labels = np.array(labels)  # Shape (n_samples, 5, 36)\n",
    "    return images, labels\n",
    "\n",
    "# Load data\n",
    "image_dir = \"samples\\samples\"  # Update this path\n",
    "X, y = preprocess_data(image_dir)"
   ]
  },
  {
   "cell_type": "code",
   "execution_count": 4,
   "metadata": {
    "execution": {
     "iopub.execute_input": "2024-11-23T14:36:33.428551Z",
     "iopub.status.busy": "2024-11-23T14:36:33.427837Z",
     "iopub.status.idle": "2024-11-23T14:36:33.433821Z",
     "shell.execute_reply": "2024-11-23T14:36:33.432874Z",
     "shell.execute_reply.started": "2024-11-23T14:36:33.428508Z"
    },
    "trusted": true
   },
   "outputs": [
    {
     "name": "stdout",
     "output_type": "stream",
     "text": [
      "['samples']\n"
     ]
    }
   ],
   "source": [
    "import os\n",
    "print(os.listdir(\"../input\"))"
   ]
  },
  {
   "cell_type": "code",
   "execution_count": 5,
   "metadata": {
    "execution": {
     "iopub.execute_input": "2024-11-23T14:36:33.434933Z",
     "iopub.status.busy": "2024-11-23T14:36:33.434681Z",
     "iopub.status.idle": "2024-11-23T14:36:33.447525Z",
     "shell.execute_reply": "2024-11-23T14:36:33.446796Z",
     "shell.execute_reply.started": "2024-11-23T14:36:33.434906Z"
    },
    "id": "UnnXhLRPzq64",
    "outputId": "2cb638f6-d561-4984-bad9-2e82c451ed07",
    "trusted": true
   },
   "outputs": [
    {
     "data": {
      "text/plain": [
       "array([[[0., 0., 0., ..., 0., 0., 0.],\n",
       "        [0., 0., 0., ..., 0., 0., 0.],\n",
       "        [0., 0., 0., ..., 0., 0., 0.],\n",
       "        [0., 0., 0., ..., 0., 0., 0.],\n",
       "        [0., 0., 0., ..., 0., 0., 0.]],\n",
       "\n",
       "       [[0., 0., 0., ..., 0., 0., 0.],\n",
       "        [0., 0., 0., ..., 0., 0., 0.],\n",
       "        [0., 0., 0., ..., 0., 0., 0.],\n",
       "        [0., 0., 0., ..., 0., 0., 0.],\n",
       "        [0., 0., 0., ..., 0., 0., 0.]],\n",
       "\n",
       "       [[0., 0., 0., ..., 0., 0., 0.],\n",
       "        [0., 0., 0., ..., 1., 0., 0.],\n",
       "        [0., 0., 0., ..., 0., 0., 0.],\n",
       "        [0., 0., 1., ..., 0., 0., 0.],\n",
       "        [0., 0., 0., ..., 0., 0., 0.]],\n",
       "\n",
       "       ...,\n",
       "\n",
       "       [[0., 0., 0., ..., 0., 0., 0.],\n",
       "        [0., 0., 0., ..., 0., 0., 0.],\n",
       "        [0., 0., 0., ..., 0., 0., 0.],\n",
       "        [0., 0., 0., ..., 0., 1., 0.],\n",
       "        [0., 0., 0., ..., 0., 0., 0.]],\n",
       "\n",
       "       [[0., 0., 0., ..., 1., 0., 0.],\n",
       "        [0., 0., 0., ..., 0., 0., 0.],\n",
       "        [0., 0., 0., ..., 0., 0., 0.],\n",
       "        [0., 0., 0., ..., 0., 0., 0.],\n",
       "        [0., 0., 0., ..., 0., 0., 0.]],\n",
       "\n",
       "       [[0., 0., 0., ..., 0., 0., 0.],\n",
       "        [0., 0., 0., ..., 0., 0., 0.],\n",
       "        [0., 0., 0., ..., 0., 0., 0.],\n",
       "        [0., 0., 0., ..., 0., 0., 0.],\n",
       "        [0., 0., 1., ..., 0., 0., 0.]]])"
      ]
     },
     "execution_count": 5,
     "metadata": {},
     "output_type": "execute_result"
    }
   ],
   "source": [
    "y"
   ]
  },
  {
   "cell_type": "code",
   "execution_count": 6,
   "metadata": {
    "execution": {
     "iopub.execute_input": "2024-11-23T14:36:33.450699Z",
     "iopub.status.busy": "2024-11-23T14:36:33.450392Z",
     "iopub.status.idle": "2024-11-23T14:36:33.461142Z",
     "shell.execute_reply": "2024-11-23T14:36:33.460385Z",
     "shell.execute_reply.started": "2024-11-23T14:36:33.450672Z"
    },
    "id": "0CHyOEhwY4eH",
    "outputId": "0fba4ed3-03df-4595-afb9-a9819be0d433",
    "trusted": true
   },
   "outputs": [
    {
     "data": {
      "text/plain": [
       "5"
      ]
     },
     "execution_count": 6,
     "metadata": {},
     "output_type": "execute_result"
    }
   ],
   "source": [
    "len(y[0])"
   ]
  },
  {
   "cell_type": "code",
   "execution_count": 7,
   "metadata": {
    "execution": {
     "iopub.execute_input": "2024-11-23T14:36:33.462782Z",
     "iopub.status.busy": "2024-11-23T14:36:33.462428Z",
     "iopub.status.idle": "2024-11-23T14:36:33.472912Z",
     "shell.execute_reply": "2024-11-23T14:36:33.472199Z",
     "shell.execute_reply.started": "2024-11-23T14:36:33.462743Z"
    },
    "id": "x5Qx49JeZF_s",
    "outputId": "f6d37969-1a81-4e09-d904-d5bc40ae0bba",
    "trusted": true
   },
   "outputs": [
    {
     "data": {
      "text/plain": [
       "array([[[0.7529412 ],\n",
       "        [0.7529412 ],\n",
       "        [0.7529412 ],\n",
       "        ...,\n",
       "        [0.9843137 ],\n",
       "        [0.9843137 ],\n",
       "        [0.9843137 ]],\n",
       "\n",
       "       [[0.7529412 ],\n",
       "        [0.7529412 ],\n",
       "        [0.7529412 ],\n",
       "        ...,\n",
       "        [0.9843137 ],\n",
       "        [0.9843137 ],\n",
       "        [0.9843137 ]],\n",
       "\n",
       "       [[0.7529412 ],\n",
       "        [0.7529412 ],\n",
       "        [0.7529412 ],\n",
       "        ...,\n",
       "        [0.9843137 ],\n",
       "        [0.9843137 ],\n",
       "        [0.9843137 ]],\n",
       "\n",
       "       ...,\n",
       "\n",
       "       [[0.7647059 ],\n",
       "        [0.7647059 ],\n",
       "        [0.7647059 ],\n",
       "        ...,\n",
       "        [0.99607843],\n",
       "        [0.99607843],\n",
       "        [0.99607843]],\n",
       "\n",
       "       [[0.7647059 ],\n",
       "        [0.7647059 ],\n",
       "        [0.7647059 ],\n",
       "        ...,\n",
       "        [0.99607843],\n",
       "        [0.99607843],\n",
       "        [0.99607843]],\n",
       "\n",
       "       [[0.7647059 ],\n",
       "        [0.7647059 ],\n",
       "        [0.7647059 ],\n",
       "        ...,\n",
       "        [0.99607843],\n",
       "        [0.99607843],\n",
       "        [0.99607843]]], dtype=float32)"
      ]
     },
     "metadata": {},
     "output_type": "display_data"
    }
   ],
   "source": [
    "display(X[0])"
   ]
  },
  {
   "cell_type": "markdown",
   "metadata": {
    "id": "40Vm4Y-VWaV1"
   },
   "source": [
    "<!-- experiment -->\n",
    "experimented code."
   ]
  },
  {
   "cell_type": "code",
   "execution_count": 5,
   "metadata": {
    "execution": {
     "iopub.execute_input": "2024-11-23T14:36:33.474006Z",
     "iopub.status.busy": "2024-11-23T14:36:33.473733Z",
     "iopub.status.idle": "2024-11-23T14:36:33.500871Z",
     "shell.execute_reply": "2024-11-23T14:36:33.500245Z",
     "shell.execute_reply.started": "2024-11-23T14:36:33.473958Z"
    },
    "trusted": true
   },
   "outputs": [],
   "source": [
    "# Split data\n",
    "X_train, X_test, y_train, y_test = train_test_split(X, y, test_size=0.2, random_state=42)"
   ]
  },
  {
   "cell_type": "markdown",
   "metadata": {
    "id": "qi-6To3rdDsy"
   },
   "source": [
    "### Below code is reshaping code without genetic."
   ]
  },
  {
   "cell_type": "code",
   "execution_count": 6,
   "metadata": {
    "execution": {
     "iopub.execute_input": "2024-11-23T14:36:33.501982Z",
     "iopub.status.busy": "2024-11-23T14:36:33.501744Z",
     "iopub.status.idle": "2024-11-23T14:37:04.766444Z",
     "shell.execute_reply": "2024-11-23T14:37:04.765604Z",
     "shell.execute_reply.started": "2024-11-23T14:36:33.501958Z"
    },
    "id": "kuzfuCybbm54",
    "outputId": "0beb0faf-24dc-4578-807d-6b2f9d11fab9",
    "trusted": true
   },
   "outputs": [
    {
     "name": "stdout",
     "output_type": "stream",
     "text": [
      "Epoch 1/30\n",
      "22/22 [==============================] - 6s 132ms/step - loss: 3.4875 - accuracy: 0.0579 - val_loss: 3.3865 - val_accuracy: 0.0686\n",
      "Epoch 2/30\n",
      "22/22 [==============================] - 3s 114ms/step - loss: 3.3693 - accuracy: 0.0681 - val_loss: 3.2500 - val_accuracy: 0.0826\n",
      "Epoch 3/30\n",
      "22/22 [==============================] - 3s 115ms/step - loss: 3.2485 - accuracy: 0.0854 - val_loss: 3.1131 - val_accuracy: 0.1233\n",
      "Epoch 4/30\n",
      "22/22 [==============================] - 3s 114ms/step - loss: 3.0699 - accuracy: 0.1096 - val_loss: 2.8425 - val_accuracy: 0.1663\n",
      "Epoch 5/30\n",
      "22/22 [==============================] - 2s 112ms/step - loss: 2.7139 - accuracy: 0.1906 - val_loss: 2.3688 - val_accuracy: 0.3314\n",
      "Epoch 6/30\n",
      "22/22 [==============================] - 2s 111ms/step - loss: 2.3142 - accuracy: 0.2795 - val_loss: 2.0133 - val_accuracy: 0.4233\n",
      "Epoch 7/30\n",
      "22/22 [==============================] - 3s 117ms/step - loss: 2.0187 - accuracy: 0.3494 - val_loss: 1.6403 - val_accuracy: 0.5605\n",
      "Epoch 8/30\n",
      "22/22 [==============================] - 3s 123ms/step - loss: 1.7362 - accuracy: 0.4263 - val_loss: 1.3825 - val_accuracy: 0.6535\n",
      "Epoch 9/30\n",
      "22/22 [==============================] - 3s 124ms/step - loss: 1.5078 - accuracy: 0.4956 - val_loss: 1.2912 - val_accuracy: 0.6581\n",
      "Epoch 10/30\n",
      "22/22 [==============================] - 3s 124ms/step - loss: 1.3691 - accuracy: 0.5345 - val_loss: 1.1358 - val_accuracy: 0.7116\n",
      "Epoch 11/30\n",
      "22/22 [==============================] - 3s 118ms/step - loss: 1.2169 - accuracy: 0.5711 - val_loss: 0.9897 - val_accuracy: 0.7430\n",
      "Epoch 12/30\n",
      "22/22 [==============================] - 2s 111ms/step - loss: 1.1545 - accuracy: 0.5936 - val_loss: 0.9292 - val_accuracy: 0.7581\n",
      "Epoch 13/30\n",
      "22/22 [==============================] - 3s 114ms/step - loss: 1.0464 - accuracy: 0.6251 - val_loss: 0.8809 - val_accuracy: 0.7733\n",
      "Epoch 14/30\n",
      "22/22 [==============================] - 2s 113ms/step - loss: 1.0077 - accuracy: 0.6325 - val_loss: 0.8055 - val_accuracy: 0.7814\n",
      "Epoch 15/30\n",
      "22/22 [==============================] - 2s 113ms/step - loss: 0.9101 - accuracy: 0.6629 - val_loss: 0.7683 - val_accuracy: 0.7965\n",
      "Epoch 16/30\n",
      "22/22 [==============================] - 2s 113ms/step - loss: 0.9372 - accuracy: 0.6512 - val_loss: 0.7627 - val_accuracy: 0.7884\n",
      "Epoch 17/30\n",
      "22/22 [==============================] - 2s 113ms/step - loss: 0.8636 - accuracy: 0.6798 - val_loss: 0.7520 - val_accuracy: 0.8093\n",
      "Epoch 18/30\n",
      "22/22 [==============================] - 2s 112ms/step - loss: 0.8217 - accuracy: 0.6851 - val_loss: 0.7106 - val_accuracy: 0.8116\n",
      "Epoch 19/30\n",
      "22/22 [==============================] - 3s 114ms/step - loss: 0.8188 - accuracy: 0.6883 - val_loss: 0.6977 - val_accuracy: 0.8070\n",
      "Epoch 20/30\n",
      "22/22 [==============================] - 2s 111ms/step - loss: 0.7834 - accuracy: 0.7032 - val_loss: 0.7132 - val_accuracy: 0.8233\n",
      "Epoch 21/30\n",
      "22/22 [==============================] - 2s 110ms/step - loss: 0.7594 - accuracy: 0.7102 - val_loss: 0.6995 - val_accuracy: 0.8302\n",
      "Epoch 22/30\n",
      "22/22 [==============================] - 2s 111ms/step - loss: 0.7387 - accuracy: 0.7096 - val_loss: 0.6903 - val_accuracy: 0.8314\n",
      "Epoch 23/30\n",
      "22/22 [==============================] - 2s 111ms/step - loss: 0.7572 - accuracy: 0.7044 - val_loss: 0.6847 - val_accuracy: 0.8221\n",
      "Epoch 24/30\n",
      "22/22 [==============================] - 2s 110ms/step - loss: 0.7150 - accuracy: 0.7249 - val_loss: 0.6852 - val_accuracy: 0.8279\n",
      "Epoch 25/30\n",
      "22/22 [==============================] - 2s 111ms/step - loss: 0.7344 - accuracy: 0.7117 - val_loss: 0.6665 - val_accuracy: 0.8395\n",
      "Epoch 26/30\n",
      "22/22 [==============================] - 2s 110ms/step - loss: 0.7053 - accuracy: 0.7269 - val_loss: 0.6922 - val_accuracy: 0.8384\n",
      "Epoch 27/30\n",
      "22/22 [==============================] - 2s 113ms/step - loss: 0.6702 - accuracy: 0.7363 - val_loss: 0.6836 - val_accuracy: 0.8267\n",
      "Epoch 28/30\n",
      "22/22 [==============================] - 2s 110ms/step - loss: 0.6531 - accuracy: 0.7377 - val_loss: 0.6575 - val_accuracy: 0.8407\n",
      "Epoch 29/30\n",
      "22/22 [==============================] - 2s 110ms/step - loss: 0.6650 - accuracy: 0.7368 - val_loss: 0.7052 - val_accuracy: 0.8314\n",
      "Epoch 30/30\n",
      "22/22 [==============================] - 2s 110ms/step - loss: 0.6546 - accuracy: 0.7427 - val_loss: 0.6853 - val_accuracy: 0.8360\n",
      "7/7 [==============================] - 0s 20ms/step - loss: 0.6366 - accuracy: 0.8458\n",
      "Test Accuracy: 0.8457943797111511\n",
      "7/7 [==============================] - 0s 20ms/step\n",
      "Sample Decoded Captchas: ['fxpx3', 'ffncn', '3b4we', 'x277e', 'n6nn2', 'm25e3', '7gnd5', 'xf5g7', '87nyn', '7xcyd']\n"
     ]
    }
   ],
   "source": [
    "\n",
    "# Build the model\n",
    "def build_model():\n",
    "    # Input layer\n",
    "    img_input = Input(shape=(IMG_HEIGHT, IMG_WIDTH, IMG_CHANNELS))\n",
    "\n",
    "    # Convolutional layers\n",
    "    x = Conv2D(16, (3, 3), padding=\"same\", activation=\"relu\")(img_input)\n",
    "    x = MaxPooling2D(padding=\"same\")(x)\n",
    "    x = Conv2D(32, (3, 3), padding=\"same\", activation=\"relu\")(x)\n",
    "    x = MaxPooling2D(padding=\"same\")(x)\n",
    "    x = Conv2D(32, (3, 3), padding=\"same\", activation=\"relu\")(x)\n",
    "    x = MaxPooling2D(padding=\"same\")(x)\n",
    "\n",
    "    # Flatten the convolutional output\n",
    "    x = Flatten()(x)\n",
    "\n",
    "    # Independent dense layers for each character\n",
    "    outputs = []\n",
    "    for _ in range(CAPTCHA_LENGTH):\n",
    "        dense = Dense(64, activation=\"relu\")(x)\n",
    "        drop = Dropout(0.5)(dense)\n",
    "        char_output = Dense(NUM_CLASSES, activation=\"softmax\")(drop)\n",
    "        outputs.append(char_output)\n",
    "\n",
    "    # Concatenate outputs along the character axis\n",
    "    concatenated_output = Concatenate(axis=1)(outputs)  # Shape: (batch_size, 5 * 36)\n",
    "\n",
    "    # Reshape to (batch_size, 5, 36)\n",
    "    reshaped_output = Reshape((CAPTCHA_LENGTH, NUM_CLASSES))(concatenated_output)\n",
    "\n",
    "    # Model definition\n",
    "    model = Model(inputs=img_input, outputs=reshaped_output)\n",
    "    model.compile(\n",
    "        optimizer=\"adam\",\n",
    "        loss=\"categorical_crossentropy\",\n",
    "        metrics=[\"accuracy\"]\n",
    "    )\n",
    "    return model\n",
    "\n",
    "\n",
    "\n",
    "\n",
    "# Build and train the model\n",
    "model = build_model()\n",
    "history = model.fit(\n",
    "    X_train,\n",
    "    y_train,\n",
    "    batch_size=32,\n",
    "    epochs=30,\n",
    "    validation_split=0.2\n",
    ")\n",
    "\n",
    "# Evaluate the model\n",
    "test_loss, test_accuracy = model.evaluate(X_test, y_test, batch_size=32)\n",
    "print(\"Test Accuracy:\", test_accuracy)\n",
    "\n",
    "# Predict on test data\n",
    "predictions = model.predict(X_test)\n",
    "\n",
    "# Decode predictions\n",
    "def decode_predictions(predictions):\n",
    "    decoded_captchas = []\n",
    "    for i in range(predictions.shape[0]):  # Iterate over batch\n",
    "        captcha = \"\"\n",
    "        for char_probs in predictions[i]:  # Iterate over characters\n",
    "            char_index = np.argmax(char_probs)  # Get most probable class\n",
    "            captcha += CHAR_SET[char_index]\n",
    "        decoded_captchas.append(captcha)\n",
    "    return decoded_captchas\n",
    "\n",
    "decoded_captchas = decode_predictions(predictions)\n",
    "print(\"Sample Decoded Captchas:\", decoded_captchas[:10])"
   ]
  },
  {
   "cell_type": "markdown",
   "metadata": {
    "id": "HT5Kj3FHT7xu"
   },
   "source": [
    "### With genetic experiments."
   ]
  },
  {
   "cell_type": "code",
   "execution_count": null,
   "metadata": {
    "execution": {
     "iopub.execute_input": "2024-11-23T15:15:12.867618Z",
     "iopub.status.busy": "2024-11-23T15:15:12.867233Z",
     "iopub.status.idle": "2024-11-23T15:21:11.708125Z",
     "shell.execute_reply": "2024-11-23T15:21:11.707126Z",
     "shell.execute_reply.started": "2024-11-23T15:15:12.867584Z"
    },
    "trusted": true
   },
   "outputs": [
    {
     "name": "stdout",
     "output_type": "stream",
     "text": [
      "Generation 1:\n",
      "  Best Fitness: 0.11000000685453415\n",
      "  Best Solution (Parameters): [ 19.20382941  34.41133138  52.2624707  102.73579591]\n",
      "Generation 2:\n",
      "  Best Fitness: 0.1133333370089531\n",
      "  Best Solution (Parameters): [19.20382941 34.41133138 52.29903119 81.36454443]\n",
      "Generation 3:\n",
      "  Best Fitness: 0.11999999731779099\n",
      "  Best Solution (Parameters): [ 18.18180064  33.57221752  52.78853115 102.73579591]\n",
      "Generation 4:\n",
      "  Best Fitness: 0.11999999731779099\n",
      "  Best Solution (Parameters): [ 18.18180064  33.57221752  52.78853115 102.73579591]\n",
      "Best Solution: [ 18.18180064  33.57221752  52.78853115 102.73579591]\n",
      "Best Solution Fitness: 0.11999999731779099\n",
      "Epoch 1/30\n",
      "\u001b[1m22/22\u001b[0m \u001b[32m━━━━━━━━━━━━━━━━━━━━\u001b[0m\u001b[37m\u001b[0m \u001b[1m20s\u001b[0m 426ms/step - accuracy: 0.0458 - loss: 3.4779 - val_accuracy: 0.0756 - val_loss: 3.2521\n",
      "Epoch 2/30\n",
      "\u001b[1m22/22\u001b[0m \u001b[32m━━━━━━━━━━━━━━━━━━━━\u001b[0m\u001b[37m\u001b[0m \u001b[1m0s\u001b[0m 13ms/step - accuracy: 0.0647 - loss: 3.2642 - val_accuracy: 0.1081 - val_loss: 3.0820\n",
      "Epoch 3/30\n",
      "\u001b[1m22/22\u001b[0m \u001b[32m━━━━━━━━━━━━━━━━━━━━\u001b[0m\u001b[37m\u001b[0m \u001b[1m0s\u001b[0m 9ms/step - accuracy: 0.0852 - loss: 3.0932 - val_accuracy: 0.1523 - val_loss: 2.8256\n",
      "Epoch 4/30\n",
      "\u001b[1m22/22\u001b[0m \u001b[32m━━━━━━━━━━━━━━━━━━━━\u001b[0m\u001b[37m\u001b[0m \u001b[1m0s\u001b[0m 9ms/step - accuracy: 0.1618 - loss: 2.7913 - val_accuracy: 0.3895 - val_loss: 2.2941\n",
      "Epoch 5/30\n",
      "\u001b[1m22/22\u001b[0m \u001b[32m━━━━━━━━━━━━━━━━━━━━\u001b[0m\u001b[37m\u001b[0m \u001b[1m0s\u001b[0m 9ms/step - accuracy: 0.3498 - loss: 2.1572 - val_accuracy: 0.5174 - val_loss: 1.6619\n",
      "Epoch 6/30\n",
      "\u001b[1m22/22\u001b[0m \u001b[32m━━━━━━━━━━━━━━━━━━━━\u001b[0m\u001b[37m\u001b[0m \u001b[1m0s\u001b[0m 9ms/step - accuracy: 0.4786 - loss: 1.6444 - val_accuracy: 0.6349 - val_loss: 1.2801\n",
      "Epoch 7/30\n",
      "\u001b[1m22/22\u001b[0m \u001b[32m━━━━━━━━━━━━━━━━━━━━\u001b[0m\u001b[37m\u001b[0m \u001b[1m0s\u001b[0m 9ms/step - accuracy: 0.5792 - loss: 1.2890 - val_accuracy: 0.7267 - val_loss: 1.0002\n",
      "Epoch 8/30\n",
      "\u001b[1m22/22\u001b[0m \u001b[32m━━━━━━━━━━━━━━━━━━━━\u001b[0m\u001b[37m\u001b[0m \u001b[1m0s\u001b[0m 9ms/step - accuracy: 0.6703 - loss: 0.9901 - val_accuracy: 0.7930 - val_loss: 0.7823\n",
      "Epoch 9/30\n",
      "\u001b[1m22/22\u001b[0m \u001b[32m━━━━━━━━━━━━━━━━━━━━\u001b[0m\u001b[37m\u001b[0m \u001b[1m0s\u001b[0m 9ms/step - accuracy: 0.7505 - loss: 0.7606 - val_accuracy: 0.8000 - val_loss: 0.6797\n",
      "Epoch 10/30\n",
      "\u001b[1m22/22\u001b[0m \u001b[32m━━━━━━━━━━━━━━━━━━━━\u001b[0m\u001b[37m\u001b[0m \u001b[1m0s\u001b[0m 9ms/step - accuracy: 0.7842 - loss: 0.6336 - val_accuracy: 0.8093 - val_loss: 0.6371\n",
      "Epoch 11/30\n",
      "\u001b[1m22/22\u001b[0m \u001b[32m━━━━━━━━━━━━━━━━━━━━\u001b[0m\u001b[37m\u001b[0m \u001b[1m0s\u001b[0m 9ms/step - accuracy: 0.8069 - loss: 0.5777 - val_accuracy: 0.8453 - val_loss: 0.5704\n",
      "Epoch 12/30\n",
      "\u001b[1m22/22\u001b[0m \u001b[32m━━━━━━━━━━━━━━━━━━━━\u001b[0m\u001b[37m\u001b[0m \u001b[1m0s\u001b[0m 9ms/step - accuracy: 0.8239 - loss: 0.5258 - val_accuracy: 0.8500 - val_loss: 0.5318\n",
      "Epoch 13/30\n",
      "\u001b[1m22/22\u001b[0m \u001b[32m━━━━━━━━━━━━━━━━━━━━\u001b[0m\u001b[37m\u001b[0m \u001b[1m0s\u001b[0m 9ms/step - accuracy: 0.8373 - loss: 0.4560 - val_accuracy: 0.8616 - val_loss: 0.5164\n",
      "Epoch 14/30\n",
      "\u001b[1m22/22\u001b[0m \u001b[32m━━━━━━━━━━━━━━━━━━━━\u001b[0m\u001b[37m\u001b[0m \u001b[1m0s\u001b[0m 9ms/step - accuracy: 0.8648 - loss: 0.3773 - val_accuracy: 0.8628 - val_loss: 0.5042\n",
      "Epoch 15/30\n",
      "\u001b[1m22/22\u001b[0m \u001b[32m━━━━━━━━━━━━━━━━━━━━\u001b[0m\u001b[37m\u001b[0m \u001b[1m0s\u001b[0m 9ms/step - accuracy: 0.8675 - loss: 0.3744 - val_accuracy: 0.8581 - val_loss: 0.5069\n",
      "Epoch 16/30\n",
      "\u001b[1m22/22\u001b[0m \u001b[32m━━━━━━━━━━━━━━━━━━━━\u001b[0m\u001b[37m\u001b[0m \u001b[1m0s\u001b[0m 9ms/step - accuracy: 0.8820 - loss: 0.3314 - val_accuracy: 0.8616 - val_loss: 0.5059\n",
      "Epoch 17/30\n",
      "\u001b[1m22/22\u001b[0m \u001b[32m━━━━━━━━━━━━━━━━━━━━\u001b[0m\u001b[37m\u001b[0m \u001b[1m0s\u001b[0m 9ms/step - accuracy: 0.8756 - loss: 0.3378 - val_accuracy: 0.8686 - val_loss: 0.4685\n",
      "Epoch 18/30\n",
      "\u001b[1m22/22\u001b[0m \u001b[32m━━━━━━━━━━━━━━━━━━━━\u001b[0m\u001b[37m\u001b[0m \u001b[1m0s\u001b[0m 9ms/step - accuracy: 0.8792 - loss: 0.3353 - val_accuracy: 0.8733 - val_loss: 0.4560\n",
      "Epoch 19/30\n",
      "\u001b[1m22/22\u001b[0m \u001b[32m━━━━━━━━━━━━━━━━━━━━\u001b[0m\u001b[37m\u001b[0m \u001b[1m0s\u001b[0m 9ms/step - accuracy: 0.8916 - loss: 0.2964 - val_accuracy: 0.8779 - val_loss: 0.4985\n",
      "Epoch 20/30\n",
      "\u001b[1m22/22\u001b[0m \u001b[32m━━━━━━━━━━━━━━━━━━━━\u001b[0m\u001b[37m\u001b[0m \u001b[1m0s\u001b[0m 9ms/step - accuracy: 0.8930 - loss: 0.2858 - val_accuracy: 0.8733 - val_loss: 0.4653\n",
      "Epoch 21/30\n",
      "\u001b[1m22/22\u001b[0m \u001b[32m━━━━━━━━━━━━━━━━━━━━\u001b[0m\u001b[37m\u001b[0m \u001b[1m0s\u001b[0m 9ms/step - accuracy: 0.9020 - loss: 0.2679 - val_accuracy: 0.8826 - val_loss: 0.4774\n",
      "Epoch 22/30\n",
      "\u001b[1m22/22\u001b[0m \u001b[32m━━━━━━━━━━━━━━━━━━━━\u001b[0m\u001b[37m\u001b[0m \u001b[1m0s\u001b[0m 9ms/step - accuracy: 0.8902 - loss: 0.2795 - val_accuracy: 0.8767 - val_loss: 0.5006\n",
      "Epoch 23/30\n",
      "\u001b[1m22/22\u001b[0m \u001b[32m━━━━━━━━━━━━━━━━━━━━\u001b[0m\u001b[37m\u001b[0m \u001b[1m0s\u001b[0m 9ms/step - accuracy: 0.9058 - loss: 0.2470 - val_accuracy: 0.8860 - val_loss: 0.4926\n",
      "Epoch 24/30\n",
      "\u001b[1m22/22\u001b[0m \u001b[32m━━━━━━━━━━━━━━━━━━━━\u001b[0m\u001b[37m\u001b[0m \u001b[1m0s\u001b[0m 9ms/step - accuracy: 0.9038 - loss: 0.2500 - val_accuracy: 0.8791 - val_loss: 0.4680\n",
      "Epoch 25/30\n",
      "\u001b[1m22/22\u001b[0m \u001b[32m━━━━━━━━━━━━━━━━━━━━\u001b[0m\u001b[37m\u001b[0m \u001b[1m0s\u001b[0m 9ms/step - accuracy: 0.9111 - loss: 0.2207 - val_accuracy: 0.8779 - val_loss: 0.4731\n",
      "Epoch 26/30\n",
      "\u001b[1m22/22\u001b[0m \u001b[32m━━━━━━━━━━━━━━━━━━━━\u001b[0m\u001b[37m\u001b[0m \u001b[1m0s\u001b[0m 9ms/step - accuracy: 0.9140 - loss: 0.2193 - val_accuracy: 0.8802 - val_loss: 0.4483\n",
      "Epoch 27/30\n",
      "\u001b[1m22/22\u001b[0m \u001b[32m━━━━━━━━━━━━━━━━━━━━\u001b[0m\u001b[37m\u001b[0m \u001b[1m0s\u001b[0m 9ms/step - accuracy: 0.9207 - loss: 0.2106 - val_accuracy: 0.8884 - val_loss: 0.4877\n",
      "Epoch 28/30\n",
      "\u001b[1m22/22\u001b[0m \u001b[32m━━━━━━━━━━━━━━━━━━━━\u001b[0m\u001b[37m\u001b[0m \u001b[1m0s\u001b[0m 9ms/step - accuracy: 0.9177 - loss: 0.2235 - val_accuracy: 0.8837 - val_loss: 0.4691\n",
      "Epoch 29/30\n",
      "\u001b[1m22/22\u001b[0m \u001b[32m━━━━━━━━━━━━━━━━━━━━\u001b[0m\u001b[37m\u001b[0m \u001b[1m0s\u001b[0m 9ms/step - accuracy: 0.9306 - loss: 0.1760 - val_accuracy: 0.8907 - val_loss: 0.4514\n",
      "Epoch 30/30\n",
      "\u001b[1m22/22\u001b[0m \u001b[32m━━━━━━━━━━━━━━━━━━━━\u001b[0m\u001b[37m\u001b[0m \u001b[1m0s\u001b[0m 9ms/step - accuracy: 0.9318 - loss: 0.1885 - val_accuracy: 0.8953 - val_loss: 0.4474\n"
     ]
    }
   ],
   "source": [
    "import pygad.kerasga\n",
    "import pygad\n",
    "import warnings\n",
    "warnings.filterwarnings(\"ignore\")\n",
    "\n",
    "\n",
    "\n",
    "# Build the model with independent filters for each layer\n",
    "def build_model(hyperparams):\n",
    "    filters1 = int(hyperparams[0])\n",
    "    filters2 = int(hyperparams[1])\n",
    "    filters3 = int(hyperparams[2])\n",
    "    dense_units = int(hyperparams[3])\n",
    "\n",
    "    # Input layer\n",
    "    img_input = Input(shape=(IMG_HEIGHT, IMG_WIDTH, IMG_CHANNELS))\n",
    "\n",
    "    # Convolutional layers with independent filters\n",
    "    x = Conv2D(filters1, (3, 3), padding=\"same\", activation=\"relu\")(img_input)\n",
    "    x = MaxPooling2D(padding=\"same\")(x)\n",
    "    x = Conv2D(filters2, (3, 3), padding=\"same\", activation=\"relu\")(x)\n",
    "    x = MaxPooling2D(padding=\"same\")(x)\n",
    "    x = Conv2D(filters3, (3, 3), padding=\"same\", activation=\"relu\")(x)\n",
    "    x = MaxPooling2D(padding=\"same\")(x)\n",
    "\n",
    "    # Flatten the convolutional output\n",
    "    x = Flatten()(x)\n",
    "\n",
    "    # Independent dense layers for each character\n",
    "    outputs = []\n",
    "    for _ in range(CAPTCHA_LENGTH):\n",
    "        dense = Dense(dense_units, activation=\"relu\")(x)\n",
    "        drop = Dropout(0.5)(dense)\n",
    "        char_output = Dense(NUM_CLASSES, activation=\"softmax\")(drop)\n",
    "        outputs.append(char_output)\n",
    "\n",
    "    # Concatenate outputs along the character axis\n",
    "    concatenated_output = Concatenate(axis=1)(outputs)  # Shape: (batch_size, 5 * 36)\n",
    "\n",
    "    # Reshape to (batch_size, 5, 36)\n",
    "    reshaped_output = Reshape((CAPTCHA_LENGTH, NUM_CLASSES))(concatenated_output)\n",
    "\n",
    "    # Model definition\n",
    "    model = Model(inputs=img_input, outputs=reshaped_output)\n",
    "    model.compile(\n",
    "        optimizer=\"adam\",\n",
    "        loss=\"categorical_crossentropy\",\n",
    "        metrics=[\"accuracy\"]\n",
    "    )\n",
    "    return model\n",
    "\n",
    "# Fitness function for GA\n",
    "def fitness_func(ga_instance, solution, sol_idx):\n",
    "    # Extract hyperparameters from the solution\n",
    "    filters1 = int(solution[0])\n",
    "    filters2 = int(solution[1])\n",
    "    filters3 = int(solution[2])\n",
    "    dense_units = int(solution[3])\n",
    "\n",
    "    # Build and train the model\n",
    "    model = build_model([filters1, filters2, filters3, dense_units])\n",
    "\n",
    "    subset_size = 300  # Number of samples to use for evaluation\n",
    "    X_train_subset = X_train[:subset_size]\n",
    "    y_train_subset = y_train[:subset_size]\n",
    "\n",
    "    early_stopping = tf.keras.callbacks.EarlyStopping(monitor='val_loss', patience=2, restore_best_weights=True)\n",
    " \n",
    "    history = model.fit(\n",
    "        X_train_subset,\n",
    "        y_train_subset,\n",
    "        batch_size=16,\n",
    "        epochs=3,  # Use fewer epochs for quicker GA evaluation\n",
    "        validation_split=0.2,\n",
    "        verbose=0,\n",
    "        callbacks=[early_stopping]\n",
    "    )\n",
    "\n",
    "    # Calculate accuracy\n",
    "    accuracy = history.history[\"val_accuracy\"][-1]\n",
    "    return accuracy\n",
    "\n",
    "def on_generation(ga_instance):\n",
    "    best_solution, best_fitness, _ = ga_instance.best_solution()\n",
    "    print(f\"Generation {ga_instance.generations_completed}:\")\n",
    "    print(f\"  Best Fitness: {best_fitness}\")\n",
    "    print(f\"  Best Solution (Parameters): {best_solution}\")\n",
    "    \n",
    "\n",
    "# Define GA hyperparameters\n",
    "gene_space = [\n",
    "    {'low': 16, 'high': 24},  # Narrow Filters for Conv Layer 1\n",
    "    {'low': 32, 'high': 48}, # Narrow Filters for Conv Layer 2\n",
    "    {'low': 48, 'high': 64}, # Narrow Filters for Conv Layer 3\n",
    "    {'low': 64, 'high': 128}, # Narrow Dense layer units\n",
    "]\n",
    "\n",
    "ga_instance = pygad.GA(\n",
    "    num_generations=4,  # Number of generations\n",
    "    num_parents_mating=4,  # Number of parents for crossover\n",
    "    fitness_func=fitness_func,\n",
    "    sol_per_pop=4,  # Population size\n",
    "    num_genes=4,  # 3 filters, 1 dense units\n",
    "    gene_space=gene_space,\n",
    "    mutation_percent_genes=30,  # Higher mutation rate\n",
    "    crossover_probability=0.8,  # Encourage more crossover\n",
    "    keep_parents=2,  # Retain the best parents\n",
    "    on_generation=on_generation\n",
    ")\n",
    "\n",
    "# Run GA\n",
    "ga_instance.run()\n",
    "\n",
    "# Best solution from GA\n",
    "best_solution, best_solution_fitness, _ = ga_instance.best_solution()\n",
    "print(\"Best Solution:\", best_solution)\n",
    "print(\"Best Solution Fitness:\", best_solution_fitness)\n",
    "\n",
    "# Build and save the best model\n",
    "best_model = build_model(best_solution)\n",
    "best_model.fit(X_train, y_train, batch_size=32, epochs=30, validation_split=0.2)\n",
    "best_model.save(\"best_captcha_model1.h5\")"
   ]
  },
  {
   "cell_type": "code",
   "execution_count": 30,
   "metadata": {
    "execution": {
     "iopub.execute_input": "2024-11-23T15:23:03.132188Z",
     "iopub.status.busy": "2024-11-23T15:23:03.131819Z",
     "iopub.status.idle": "2024-11-23T15:23:03.136319Z",
     "shell.execute_reply": "2024-11-23T15:23:03.135468Z",
     "shell.execute_reply.started": "2024-11-23T15:23:03.132157Z"
    },
    "trusted": true
   },
   "outputs": [],
   "source": [
    "k1=best_solution"
   ]
  },
  {
   "cell_type": "code",
   "execution_count": 18,
   "metadata": {
    "execution": {
     "iopub.execute_input": "2024-11-23T14:54:27.124980Z",
     "iopub.status.busy": "2024-11-23T14:54:27.124646Z",
     "iopub.status.idle": "2024-11-23T14:54:27.138114Z",
     "shell.execute_reply": "2024-11-23T14:54:27.137385Z",
     "shell.execute_reply.started": "2024-11-23T14:54:27.124944Z"
    },
    "trusted": true
   },
   "outputs": [],
   "source": [
    "# bsolution= [20.06142429,40.51892279,50.20829043,91.33879553]\n",
    "# k=build_model(bsolution)"
   ]
  },
  {
   "cell_type": "code",
   "execution_count": 31,
   "metadata": {
    "execution": {
     "iopub.execute_input": "2024-11-23T15:23:05.944361Z",
     "iopub.status.busy": "2024-11-23T15:23:05.943508Z",
     "iopub.status.idle": "2024-11-23T15:23:44.919207Z",
     "shell.execute_reply": "2024-11-23T15:23:44.918401Z",
     "shell.execute_reply.started": "2024-11-23T15:23:05.944295Z"
    },
    "trusted": true
   },
   "outputs": [
    {
     "data": {
      "image/png": "[encoded data removed]",
      "text/plain": [
       "<Figure size 1200x500 with 2 Axes>"
      ]
     },
     "metadata": {},
     "output_type": "display_data"
    }
   ],
   "source": [
    "import matplotlib.pyplot as plt\n",
    "\n",
    "k=build_model(best_solution)\n",
    "history= k.fit(X_train, y_train, batch_size=32, epochs=100, validation_split=0.2,verbose=0)\n",
    "\n",
    "best_model.save(\"best_captcha_model.h5\")\n",
    "# Plot accuracy and loss curves\n",
    "def plot_training_history(history):\n",
    "    # Extract accuracy and loss values\n",
    "    train_acc = history.history['accuracy']\n",
    "    val_acc = history.history['val_accuracy']\n",
    "    train_loss = history.history['loss']\n",
    "    val_loss = history.history['val_loss']\n",
    "    \n",
    "    # Plot accuracy\n",
    "    plt.figure(figsize=(12, 5))\n",
    "    plt.subplot(1, 2, 1)\n",
    "    plt.plot(train_acc, label='Training Accuracy')\n",
    "    plt.plot(val_acc, label='Validation Accuracy')\n",
    "    plt.title('Model Accuracy')\n",
    "    plt.xlabel('Epochs')\n",
    "    plt.ylabel('Accuracy')\n",
    "    plt.legend()\n",
    "    \n",
    "    # Plot loss\n",
    "    plt.subplot(1, 2, 2)\n",
    "    plt.plot(train_loss, label='Training Loss')\n",
    "    plt.plot(val_loss, label='Validation Loss')\n",
    "    plt.title('Model Loss')\n",
    "    plt.xlabel('Epochs')\n",
    "    plt.ylabel('Loss')\n",
    "    plt.legend()\n",
    "    plt.show()\n",
    "\n",
    "\n",
    "plot_training_history(history)\n"
   ]
  },
  {
   "cell_type": "code",
   "execution_count": 32,
   "metadata": {
    "execution": {
     "iopub.execute_input": "2024-11-23T15:23:44.921631Z",
     "iopub.status.busy": "2024-11-23T15:23:44.920856Z",
     "iopub.status.idle": "2024-11-23T15:23:45.787640Z",
     "shell.execute_reply": "2024-11-23T15:23:45.786868Z",
     "shell.execute_reply.started": "2024-11-23T15:23:44.921590Z"
    },
    "trusted": true
   },
   "outputs": [
    {
     "name": "stdout",
     "output_type": "stream",
     "text": [
      "\u001b[1m7/7\u001b[0m \u001b[32m━━━━━━━━━━━━━━━━━━━━\u001b[0m\u001b[37m\u001b[0m \u001b[1m1s\u001b[0m 119ms/step - accuracy: 0.9247 - loss: 0.4015\n",
      "Test Accuracy: 0.9186916351318359\n",
      "\u001b[1m7/7\u001b[0m \u001b[32m━━━━━━━━━━━━━━━━━━━━\u001b[0m\u001b[37m\u001b[0m \u001b[1m0s\u001b[0m 2ms/step \n",
      "Sample Decoded Captchas: ['pybce', '2nbcx', 'ndg2b', 'f6ne5', '6bxwg', 'xbebx', '8np22', '6dd2y', 'pg2yc', '2cg58']\n"
     ]
    }
   ],
   "source": [
    "\n",
    "# Evaluate the model\n",
    "test_loss, test_accuracy = k.evaluate(X_test, y_test, batch_size=32)\n",
    "print(\"Test Accuracy:\", test_accuracy)\n",
    "\n",
    "# Predict on test data\n",
    "predictions = model.predict(X_test)\n",
    "\n",
    "# Decode predictions\n",
    "def decode_predictions(predictions):\n",
    "    decoded_captchas = []\n",
    "    for i in range(predictions.shape[0]):  # Iterate over batch\n",
    "        captcha = \"\"\n",
    "        for char_probs in predictions[i]:  # Iterate over characters\n",
    "            char_index = np.argmax(char_probs)  # Get most probable class\n",
    "            captcha += CHAR_SET[char_index]\n",
    "        decoded_captchas.append(captcha)\n",
    "    return decoded_captchas\n",
    "\n",
    "decoded_captchas = decode_predictions(predictions)\n",
    "print(\"Sample Decoded Captchas:\", decoded_captchas[:10])"
   ]
  }
 ],
 "metadata": {
  "accelerator": "TPU",
  "colab": {
   "gpuType": "V28",
   "provenance": []
  },
  "kaggle": {
   "accelerator": "nvidiaTeslaT4",
   "dataSources": [
    {
     "datasetId": 6148662,
     "sourceId": 9990742,
     "sourceType": "datasetVersion"
    }
   ],
   "dockerImageVersionId": 30787,
   "isGpuEnabled": true,
   "isInternetEnabled": true,
   "language": "python",
   "sourceType": "notebook"
  },
  "kernelspec": {
   "display_name": "Python 3",
   "language": "python",
   "name": "python3"
  },
  "language_info": {
   "codemirror_mode": {
    "name": "ipython",
    "version": 3
   },
   "file_extension": ".py",
   "mimetype": "text/x-python",
   "name": "python",
   "nbconvert_exporter": "python",
   "pygments_lexer": "ipython3",
   "version": "3.10.5"
  }
 },
 "nbformat": 4,
 "nbformat_minor": 4
}
